{
 "cells": [
  {
   "cell_type": "code",
   "execution_count": 1,
   "metadata": {
    "executionInfo": {
     "elapsed": 7,
     "status": "ok",
     "timestamp": 1688659916184,
     "user": {
      "displayName": "Mahesh Anand",
      "userId": "06788086636039591358"
     },
     "user_tz": -330
    },
    "id": "USYT9awwIFIK"
   },
   "outputs": [],
   "source": [
    "from random import choice\n",
    "from numpy import array,dot,random\n",
    "import numpy as np"
   ]
  },
  {
   "cell_type": "code",
   "execution_count": 2,
   "metadata": {
    "colab": {
     "base_uri": "https://localhost:8080/"
    },
    "executionInfo": {
     "elapsed": 11,
     "status": "ok",
     "timestamp": 1686149127390,
     "user": {
      "displayName": "Mahesh Anand",
      "userId": "06788086636039591358"
     },
     "user_tz": -330
    },
    "id": "fAmrmKsQm5j2",
    "outputId": "c4502bbd-7dcf-44c8-8326-d9a92cf2ae96"
   },
   "outputs": [
    {
     "data": {
      "text/plain": [
       "array([0.33361874, 0.73970282])"
      ]
     },
     "execution_count": 2,
     "metadata": {},
     "output_type": "execute_result"
    }
   ],
   "source": [
    "w=random.rand(2)\n",
    "w"
   ]
  },
  {
   "cell_type": "code",
   "execution_count": 3,
   "metadata": {
    "colab": {
     "base_uri": "https://localhost:8080/"
    },
    "executionInfo": {
     "elapsed": 383,
     "status": "ok",
     "timestamp": 1688486377184,
     "user": {
      "displayName": "Mahesh Anand",
      "userId": "06788086636039591358"
     },
     "user_tz": -330
    },
    "id": "HVctA5AeIkBk",
    "outputId": "d7af0e62-9b6e-4186-c9e8-5bf23d987343"
   },
   "outputs": [
    {
     "name": "stdout",
     "output_type": "stream",
     "text": [
      "[0.6003839 0.6768463]\n"
     ]
    },
    {
     "data": {
      "text/plain": [
       "[(array([0, 0]), 0),\n",
       " (array([0, 1]), 0),\n",
       " (array([1, 0]), 0),\n",
       " (array([1, 1]), 1)]"
      ]
     },
     "execution_count": 3,
     "metadata": {},
     "output_type": "execute_result"
    }
   ],
   "source": [
    "#Mcculloch-Pitts Model for AND gate\n",
    "w=random.rand(2)\n",
    "#w[0]=1\n",
    "#w[1]=1\n",
    "print(w)\n",
    "train_data=[(array([0,0]),0),(array([0,1]),0),(array([1,0]),0),(array([1,1]),1)]\n",
    "train_data"
   ]
  },
  {
   "cell_type": "code",
   "execution_count": 4,
   "metadata": {
    "colab": {
     "base_uri": "https://localhost:8080/"
    },
    "executionInfo": {
     "elapsed": 546,
     "status": "ok",
     "timestamp": 1688486443846,
     "user": {
      "displayName": "Mahesh Anand",
      "userId": "06788086636039591358"
     },
     "user_tz": -330
    },
    "id": "iwmLe6vZ6ygs",
    "outputId": "69c01216-2cff-4813-d88d-996e3ccf374f"
   },
   "outputs": [
    {
     "data": {
      "text/plain": [
       "array([0.6003839, 0.6768463])"
      ]
     },
     "execution_count": 4,
     "metadata": {},
     "output_type": "execute_result"
    }
   ],
   "source": [
    "w"
   ]
  },
  {
   "cell_type": "code",
   "execution_count": 5,
   "metadata": {
    "id": "tuUrZYSeoWax"
   },
   "outputs": [],
   "source": [
    "def my_act(net):\n",
    "  if net<1.5:\n",
    "    return(0)\n",
    "  else:\n",
    "    return(1)"
   ]
  },
  {
   "cell_type": "code",
   "execution_count": 6,
   "metadata": {
    "colab": {
     "base_uri": "https://localhost:8080/"
    },
    "executionInfo": {
     "elapsed": 752,
     "status": "ok",
     "timestamp": 1682144668505,
     "user": {
      "displayName": "Mahesh Anand",
      "userId": "06788086636039591358"
     },
     "user_tz": -330
    },
    "id": "kZ1vllbyoi9B",
    "outputId": "92c63d32-a925-4944-a427-d3b206096954"
   },
   "outputs": [
    {
     "data": {
      "text/plain": [
       "1"
      ]
     },
     "execution_count": 6,
     "metadata": {},
     "output_type": "execute_result"
    }
   ],
   "source": [
    "my_act(2)"
   ]
  },
  {
   "cell_type": "code",
   "execution_count": 7,
   "metadata": {
    "id": "WXO50rMXJzBY"
   },
   "outputs": [],
   "source": [
    "#Threshold based activation (Hard Limit Activation Function)\n",
    "act_function= lambda net: 0 if net<0.72 else 1"
   ]
  },
  {
   "cell_type": "code",
   "execution_count": 8,
   "metadata": {
    "colab": {
     "base_uri": "https://localhost:8080/"
    },
    "executionInfo": {
     "elapsed": 5,
     "status": "ok",
     "timestamp": 1688486457418,
     "user": {
      "displayName": "Mahesh Anand",
      "userId": "06788086636039591358"
     },
     "user_tz": -330
    },
    "id": "BHsnE1WbKJf_",
    "outputId": "9eb4656a-bc39-4cfd-f3dc-043f48bc7cb6"
   },
   "outputs": [
    {
     "name": "stdout",
     "output_type": "stream",
     "text": [
      "[0 0] : 0.0 -> 0\n",
      "[0 1] : 0.6768462991369215 -> 0\n",
      "[1 0] : 0.6003839037394691 -> 0\n",
      "[1 1] : 1.2772302028763907 -> 1\n"
     ]
    }
   ],
   "source": [
    "for x,_ in train_data:\n",
    "  net=dot(x,w) #net value\n",
    "  print(\"{} : {} -> {}\".format(x[:2],net,act_function(net)))"
   ]
  },
  {
   "cell_type": "code",
   "execution_count": 9,
   "metadata": {
    "colab": {
     "base_uri": "https://localhost:8080/"
    },
    "executionInfo": {
     "elapsed": 4,
     "status": "ok",
     "timestamp": 1688486477684,
     "user": {
      "displayName": "Mahesh Anand",
      "userId": "06788086636039591358"
     },
     "user_tz": -330
    },
    "id": "m7P0D5aPKTt5",
    "outputId": "e7a24c07-2ea5-4360-fbe2-e609733e5116"
   },
   "outputs": [
    {
     "name": "stdout",
     "output_type": "stream",
     "text": [
      "[0.20714806 0.556295  ]\n"
     ]
    },
    {
     "data": {
      "text/plain": [
       "[(array([0, 0]), 0),\n",
       " (array([0, 1]), 1),\n",
       " (array([1, 0]), 1),\n",
       " (array([1, 1]), 1)]"
      ]
     },
     "execution_count": 9,
     "metadata": {},
     "output_type": "execute_result"
    }
   ],
   "source": [
    "#Mcculloch-Pitts Model for OR gate\n",
    "w=random.rand(2)\n",
    "#w[0]=1\n",
    "#w[1]=1\n",
    "print(w)\n",
    "train_data=[(array([0,0]),0),(array([0,1]),1),(array([1,0]),1),(array([1,1]),1)]\n",
    "train_data"
   ]
  },
  {
   "cell_type": "code",
   "execution_count": 10,
   "metadata": {
    "colab": {
     "base_uri": "https://localhost:8080/"
    },
    "executionInfo": {
     "elapsed": 614,
     "status": "ok",
     "timestamp": 1688486326969,
     "user": {
      "displayName": "Mahesh Anand",
      "userId": "06788086636039591358"
     },
     "user_tz": -330
    },
    "id": "Mm6wTKIX8GHy",
    "outputId": "40a2ed61-852a-41d8-89e3-c75ba96d0e2b"
   },
   "outputs": [
    {
     "data": {
      "text/plain": [
       "array([0.20714806, 0.556295  ])"
      ]
     },
     "execution_count": 10,
     "metadata": {},
     "output_type": "execute_result"
    }
   ],
   "source": [
    "w"
   ]
  },
  {
   "cell_type": "code",
   "execution_count": 11,
   "metadata": {
    "id": "vc8aX6t6L2ZE"
   },
   "outputs": [],
   "source": [
    "act_function= lambda net: 0 if net<0.02 else 1"
   ]
  },
  {
   "cell_type": "code",
   "execution_count": 12,
   "metadata": {
    "colab": {
     "base_uri": "https://localhost:8080/"
    },
    "executionInfo": {
     "elapsed": 659,
     "status": "ok",
     "timestamp": 1688486565402,
     "user": {
      "displayName": "Mahesh Anand",
      "userId": "06788086636039591358"
     },
     "user_tz": -330
    },
    "id": "ta5pydOBMAYz",
    "outputId": "ee7f083b-436b-4e05-eb23-bd2cd7cecb1f"
   },
   "outputs": [
    {
     "name": "stdout",
     "output_type": "stream",
     "text": [
      "[0 0] : 0.0 -> 0\n",
      "[0 1] : 0.5562949990269577 -> 1\n",
      "[1 0] : 0.20714805869786912 -> 1\n",
      "[1 1] : 0.7634430577248268 -> 1\n"
     ]
    }
   ],
   "source": [
    "for x,_ in train_data:\n",
    "  result=dot(x,w)\n",
    "  print(\"{} : {} -> {}\".format(x[:2],result,act_function(result)))"
   ]
  },
  {
   "cell_type": "markdown",
   "metadata": {
    "id": "BuY-j9QWMYDt"
   },
   "source": [
    "Rosenblat's Neuron : Instead of using fixed weight with no learning scope, he introduced random weights and bias with learning scope"
   ]
  },
  {
   "cell_type": "code",
   "execution_count": 13,
   "metadata": {
    "executionInfo": {
     "elapsed": 409,
     "status": "ok",
     "timestamp": 1688660059729,
     "user": {
      "displayName": "Mahesh Anand",
      "userId": "06788086636039591358"
     },
     "user_tz": -330
    },
    "id": "K_uI2oEhwO5s"
   },
   "outputs": [],
   "source": [
    "#assign a random threshold value\n",
    "act_function= lambda x: 0 if x<1.5 else 1\n",
    "train_data=[(array([0,0,1]),0),(array([0,1,1]),1),(array([1,0,1]),1),(array([1,1,1]),1)]\n",
    "#random.seed(10)\n",
    "w=random.rand(3)\n",
    "errors=[]\n",
    "eta=0.1"
   ]
  },
  {
   "cell_type": "code",
   "execution_count": 14,
   "metadata": {
    "colab": {
     "base_uri": "https://localhost:8080/"
    },
    "executionInfo": {
     "elapsed": 6,
     "status": "ok",
     "timestamp": 1688660029074,
     "user": {
      "displayName": "Mahesh Anand",
      "userId": "06788086636039591358"
     },
     "user_tz": -330
    },
    "id": "kDgI2XDCCBe4",
    "outputId": "ad17da70-70e0-40cc-db28-e0ff2b8925c0"
   },
   "outputs": [
    {
     "name": "stdout",
     "output_type": "stream",
     "text": [
      "[0.43462402 0.62510444 0.37563546]\n"
     ]
    }
   ],
   "source": [
    "print(w)"
   ]
  },
  {
   "cell_type": "code",
   "execution_count": 15,
   "metadata": {
    "colab": {
     "base_uri": "https://localhost:8080/"
    },
    "executionInfo": {
     "elapsed": 404,
     "status": "ok",
     "timestamp": 1688659044891,
     "user": {
      "displayName": "Mahesh Anand",
      "userId": "06788086636039591358"
     },
     "user_tz": -330
    },
    "id": "NAeXV6-Df9TB",
    "outputId": "e824a670-ef74-480b-a699-247ecd2fed8c"
   },
   "outputs": [
    {
     "data": {
      "text/plain": [
       "[(array([0, 0, 1]), 0),\n",
       " (array([0, 1, 1]), 1),\n",
       " (array([1, 0, 1]), 1),\n",
       " (array([1, 1, 1]), 1)]"
      ]
     },
     "execution_count": 15,
     "metadata": {},
     "output_type": "execute_result"
    }
   ],
   "source": [
    "train_data"
   ]
  },
  {
   "cell_type": "code",
   "execution_count": 16,
   "metadata": {
    "colab": {
     "base_uri": "https://localhost:8080/"
    },
    "executionInfo": {
     "elapsed": 5,
     "status": "ok",
     "timestamp": 1688659115955,
     "user": {
      "displayName": "Mahesh Anand",
      "userId": "06788086636039591358"
     },
     "user_tz": -330
    },
    "id": "b0xW0QfIwRGw",
    "outputId": "ce6f164a-baa1-48a4-d397-bd43dcadaf23"
   },
   "outputs": [
    {
     "name": "stdout",
     "output_type": "stream",
     "text": [
      "[1 1 1] 1\n"
     ]
    }
   ],
   "source": [
    "x,expected=choice(train_data)\n",
    "print(x,expected)"
   ]
  },
  {
   "cell_type": "code",
   "execution_count": 17,
   "metadata": {
    "colab": {
     "base_uri": "https://localhost:8080/"
    },
    "executionInfo": {
     "elapsed": 376,
     "status": "ok",
     "timestamp": 1664090578293,
     "user": {
      "displayName": "Mahesh Anand",
      "userId": "06788086636039591358"
     },
     "user_tz": -330
    },
    "id": "zPaSunpfwz2M",
    "outputId": "1061aa7a-7b7d-4b35-a45b-bd99020f919a"
   },
   "outputs": [
    {
     "data": {
      "text/plain": [
       "1.4353639275936159"
      ]
     },
     "execution_count": 17,
     "metadata": {},
     "output_type": "execute_result"
    }
   ],
   "source": [
    "dot(w,x)"
   ]
  },
  {
   "cell_type": "code",
   "execution_count": 18,
   "metadata": {
    "executionInfo": {
     "elapsed": 393,
     "status": "ok",
     "timestamp": 1688660063735,
     "user": {
      "displayName": "Mahesh Anand",
      "userId": "06788086636039591358"
     },
     "user_tz": -330
    },
    "id": "z8U1nfmhMu1V"
   },
   "outputs": [],
   "source": [
    "n=1000\n",
    "#Training\n",
    "for i in range(n):\n",
    "  x,expected=choice(train_data)\n",
    "  net=dot(w,x)\n",
    "  y_pred=act_function(net)\n",
    "  error=expected-y_pred\n",
    "  errors.append(error)\n",
    "  w+=eta*error*x"
   ]
  },
  {
   "cell_type": "code",
   "execution_count": 19,
   "metadata": {
    "colab": {
     "base_uri": "https://localhost:8080/"
    },
    "executionInfo": {
     "elapsed": 3,
     "status": "ok",
     "timestamp": 1688660065509,
     "user": {
      "displayName": "Mahesh Anand",
      "userId": "06788086636039591358"
     },
     "user_tz": -330
    },
    "id": "DLncYHh6InVg",
    "outputId": "971d9d8e-bb49-400e-f330-92a8bdce9405"
   },
   "outputs": [
    {
     "data": {
      "text/plain": [
       "array([0.73462402, 0.82510444, 0.87563546])"
      ]
     },
     "execution_count": 19,
     "metadata": {},
     "output_type": "execute_result"
    }
   ],
   "source": [
    "w"
   ]
  },
  {
   "cell_type": "code",
   "execution_count": 20,
   "metadata": {
    "colab": {
     "base_uri": "https://localhost:8080/"
    },
    "executionInfo": {
     "elapsed": 389,
     "status": "ok",
     "timestamp": 1688660067826,
     "user": {
      "displayName": "Mahesh Anand",
      "userId": "06788086636039591358"
     },
     "user_tz": -330
    },
    "id": "22Mpp9BVxKwC",
    "outputId": "7ee1ba53-55db-4863-b9f7-e28241537521"
   },
   "outputs": [
    {
     "name": "stdout",
     "output_type": "stream",
     "text": [
      "[0 0 1] : 0.8756354642358479 -> 0\n",
      "[0 1 1] : 1.7007399048738772 -> 1\n",
      "[1 0 1] : 1.6102594869555866 -> 1\n",
      "[1 1 1] : 2.435363927593616 -> 1\n"
     ]
    }
   ],
   "source": [
    "#Testing\n",
    "for x,_ in train_data:\n",
    "  net=dot(x,w)\n",
    "  print(\"{} : {} -> {}\".format(x[:3],net,act_function(net)))"
   ]
  },
  {
   "cell_type": "code",
   "execution_count": 21,
   "metadata": {
    "colab": {
     "base_uri": "https://localhost:8080/"
    },
    "executionInfo": {
     "elapsed": 412,
     "status": "ok",
     "timestamp": 1655630427794,
     "user": {
      "displayName": "Mahesh Anand",
      "userId": "06788086636039591358"
     },
     "user_tz": -330
    },
    "id": "dbDwIIDrRqX7",
    "outputId": "907a09d7-1d19-4454-ba5d-c87b20b5bb1f"
   },
   "outputs": [
    {
     "data": {
      "text/plain": [
       "array([0.73462402, 0.82510444, 0.87563546])"
      ]
     },
     "execution_count": 21,
     "metadata": {},
     "output_type": "execute_result"
    }
   ],
   "source": [
    "w"
   ]
  }
 ],
 "metadata": {
  "colab": {
   "authorship_tag": "ABX9TyM3dyOoy8BcUnWRV9YsbEVF",
   "provenance": []
  },
  "kernelspec": {
   "display_name": "Python 3 (ipykernel)",
   "language": "python",
   "name": "python3"
  },
  "language_info": {
   "codemirror_mode": {
    "name": "ipython",
    "version": 3
   },
   "file_extension": ".py",
   "mimetype": "text/x-python",
   "name": "python",
   "nbconvert_exporter": "python",
   "pygments_lexer": "ipython3",
   "version": "3.11.4"
  },
  "toc": {
   "base_numbering": 1,
   "nav_menu": {},
   "number_sections": true,
   "sideBar": true,
   "skip_h1_title": false,
   "title_cell": "Table of Contents",
   "title_sidebar": "Contents",
   "toc_cell": false,
   "toc_position": {},
   "toc_section_display": true,
   "toc_window_display": false
  }
 },
 "nbformat": 4,
 "nbformat_minor": 1
}
